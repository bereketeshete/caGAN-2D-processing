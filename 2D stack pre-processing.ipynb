{
 "cells": [
  {
   "cell_type": "markdown",
   "id": "e60d08b7",
   "metadata": {},
   "source": [
    "## 2D Raw SIM & Ground Truth Images volumetric pre-processing for Deep-learning\n",
    "\n",
    "\n",
    "<br>\n",
    "<br>\n",
    "\n",
    "This notebook onverts 3D SIM stack images into cropped volummteric patchs. <br>\n",
    "The intent of cropping is to fit data in to the memory of a training GPU. <br>\n",
    "This code was written for python 3 on NVIDIA TITAN RTX, 32 GB RAM and Processor: Intel(R) Core(TM) i7-9700K CPU @ 3.60GHz (8 CPUs), ~3.6GHz. <br> \n",
    "\n",
    "i.e. It hasn't been tested on other any env's <br>\n",
    "\n",
    "@author Bereket Kebede, bkebede@memphis.edu  <br>\n",
    "\n",
    "updated Jan 30, 2023"
   ]
  },
  {
   "cell_type": "markdown",
   "id": "7ebf5de9",
   "metadata": {},
   "source": [
    "## Getting Started\n",
    "---- "
   ]
  },
  {
   "cell_type": "code",
   "execution_count": 1,
   "id": "c37b8b9b",
   "metadata": {},
   "outputs": [],
   "source": [
    "########################################\n",
    "# setting the envinroment \n",
    "\n",
    "import sys\n",
    "sys.path.append(\"C:/Users/CIRL/AppData/Local\\Programs/Python/Python39/Lib/site-packages\")\n",
    "sys.path.append(r\"E:\\Bereket\\Research\\DeepLearning - 3D\\custom_library\")\n",
    "sys.path.append(\"C:/Users/CIRL/AppData/Local\\Programs/Python/Python36/Lib/site-packages\")"
   ]
  },
  {
   "cell_type": "code",
   "execution_count": 2,
   "id": "f0220e37",
   "metadata": {},
   "outputs": [],
   "source": [
    "########################################\n",
    "# Import necessary libraries\n",
    "\n",
    "from PIL import Image\n",
    "import numpy as np\n",
    "import numpy\n",
    "import matplotlib.pyplot as plt\n",
    "import os\n",
    "import scipy.ndimage\n",
    "from skimage import io\n",
    "from tifffile import imsave\n",
    "from tifffile import tifffile\n",
    "from time import process_time"
   ]
  },
  {
   "cell_type": "markdown",
   "id": "65cb876e",
   "metadata": {},
   "source": [
    "## Import data\n",
    "----\n",
    "\n",
    "import RAW SIM and reconstructed data\n",
    "\n",
    "(Train; 004 & 005), (Validation; is 016) (Testing; is 007)"
   ]
  },
  {
   "cell_type": "code",
   "execution_count": 3,
   "id": "d0037d84",
   "metadata": {},
   "outputs": [],
   "source": [
    "########################################\n",
    "# Bring data into phyton notebook\n",
    "\n",
    "# Data from Opstal et al 2022\n",
    "\n",
    "# currently doing 004\n",
    "\n",
    "raw_sim_image_link = r\"D:\\Bereket\\Research\\Crawling 3D SIM Data\\3D SIM Mitochondria and Lysosomes\\LiveCell\\eGFP\\RawSIM\\20210420_H9C2-dTag_GLU_37C_1520_sim-fast_004.tif\"\n",
    "ground_truth_image_link = r\"D:\\Bereket\\Research\\Crawling 3D SIM Data\\3D SIM Mitochondria and Lysosomes\\LiveCell\\eGFP\\3DSIM\\20210420_H9C2-dTag_GLU_37C_1520_sim-fast_004_SIR_ALX.tif\""
   ]
  },
  {
   "cell_type": "code",
   "execution_count": 4,
   "id": "ce9cf96b",
   "metadata": {},
   "outputs": [
    {
     "name": "stdout",
     "output_type": "stream",
     "text": [
      "Raw_SIM_image size is:  (255, 2, 1024, 1024)\n",
      "Ground-truth_image size is:  (17, 2, 2048, 2048)\n"
     ]
    }
   ],
   "source": [
    "RS_image = io.imread(raw_sim_image_link) # Wide-field image\n",
    "GT_image = io.imread(ground_truth_image_link) # Wide-field image\n",
    "\n",
    "print('Raw_SIM_image size is: ', RS_image.shape)\n",
    "print('Ground-truth_image size is: ', GT_image.shape)"
   ]
  },
  {
   "cell_type": "markdown",
   "id": "9a09bc00",
   "metadata": {},
   "source": [
    "Data Format <br>\n",
    "\n",
    "data type 1: (stack, x, y) <br>\n",
    "data type 2: (time, stack, x, y) <br>\n",
    "data type 3: (stack, channel, x, y) <br>\n",
    "\n",
    "\n",
    "Acquisition format <br>\n",
    "\n",
    "type 1: change all phase -> change all depth -> change all orientation  <br>"
   ]
  },
  {
   "cell_type": "code",
   "execution_count": 5,
   "id": "c9fe5e98",
   "metadata": {},
   "outputs": [
    {
     "data": {
      "text/plain": [
       "4"
      ]
     },
     "execution_count": 5,
     "metadata": {},
     "output_type": "execute_result"
    }
   ],
   "source": [
    "# Hyper-paramters\n",
    "\n",
    "data_format = \"type_3\"\n",
    "orient = 3\n",
    "phase = 5\n",
    "\n",
    "RS_image.ndim"
   ]
  },
  {
   "cell_type": "markdown",
   "id": "e88e86a0",
   "metadata": {},
   "source": [
    "## Setting Parameters\n",
    "-----"
   ]
  },
  {
   "cell_type": "code",
   "execution_count": 132,
   "id": "28a4da97",
   "metadata": {},
   "outputs": [],
   "source": [
    "class calculate_parameters:\n",
    "    images_per_plane = orient*phase\n",
    "    if data_format == \"type_3\":\n",
    "        total_rawsim_count = RS_image.shape[0]\n",
    "        depth_count = GT_image.shape[0]\n",
    "        width = RS_image.shape[2]\n",
    "        height = RS_image.shape[3]"
   ]
  },
  {
   "cell_type": "code",
   "execution_count": 133,
   "id": "a22a1b4f",
   "metadata": {},
   "outputs": [],
   "source": [
    "my_para = calculate_parameters()\n",
    "\n",
    "images_per_plane = my_para.images_per_plane\n",
    "total_rawsim_count = my_para.total_rawsim_count\n",
    "depth_count = my_para.depth_count\n",
    "width = my_para.width\n",
    "height = my_para.height"
   ]
  },
  {
   "cell_type": "code",
   "execution_count": 164,
   "id": "86461c1f",
   "metadata": {},
   "outputs": [],
   "source": [
    "# functions\n",
    "\n",
    "def clip_normalize_ground(GT_image, data_format = data_format):\n",
    "    if (data_format == \"type_2\"):\n",
    "        temp_GT = GT_image[slide-1].copy()\n",
    "        temp_GT[temp_GT<0] = 0    #thresholding\n",
    "        temp_GT = temp_GT/np.max(temp_GT)\n",
    "    elif (data_format == \"type_3\"):\n",
    "        temp_GT = GT_image[:,0,:,:].copy() # at channel 0\n",
    "        temp_GT[temp_GT<0] = 0    #thresholding\n",
    "        temp_GT = temp_GT/np.max(temp_GT)\n",
    "    else:\n",
    "        temp_GT = GT_image.copy()\n",
    "        temp_GT[temp_GT<0] = 0    #thresholding\n",
    "        temp_GT = temp_GT/np.max(temp_GT)\n",
    "    return temp_GT\n",
    "        \n",
    "def clip_normalize_raw(data):\n",
    "    clipped_data = data.copy() # at channel 0\n",
    "    clipped_data[clipped_data<0] = 0    #thresholding\n",
    "\n",
    "    apodized_data = clipped_data - np.min(data)\n",
    "    norm_3D_data = apodized_data/np.max(apodized_data)\n",
    "    return norm_3D_data\n",
    "\n",
    "def structure_raw(RS_image):\n",
    "    \"\"\"\n",
    "    input: (stack, width, height)\n",
    "    output: (sheets, depth, width, height)\n",
    "    \"\"\"\n",
    "    data = np.zeros((images_per_plane, depth_count, RS_image.shape[RS_image.ndim-2], RS_image.shape[RS_image.ndim-1]))\n",
    "    block = total_rawsim_count//3\n",
    "    # change all phase -> change all depth -> change all orientation\n",
    "    count = 0\n",
    "    for k in range(orient):\n",
    "        for i in range(depth_count):\n",
    "            for j in range(phase):\n",
    "                # print(k*phase+j+i*block)\n",
    "                if (data_format == \"type_3\"):\n",
    "                    data[j+k*phase,i,:,:] = RS_image[count][0]\n",
    "                    count +=1;\n",
    "                elif (data_format == \"type_1\"):\n",
    "                    data[phase*i+j,k,:,:] = RS_image[orient*k+j+i*block]\n",
    "                else:\n",
    "                    data[phase*i+j,k,:,:] = RS_image[0,orient*k+j+i*block]\n",
    "    return data\n",
    "\n",
    "    # expected output:(15, 17, 1024, 1024)"
   ]
  },
  {
   "cell_type": "code",
   "execution_count": 165,
   "id": "452f3dd9",
   "metadata": {},
   "outputs": [],
   "source": [
    "def pre_process_raw(RS_image, orient = 3, phase = 5):\n",
    "    data = structure_raw(RS_image)\n",
    "    temp_2 = clip_normalize_raw(data)\n",
    "    #temp_3 = zero_pad_raw()\n",
    "    return temp_2\n",
    "\n",
    "def pre_process_gt(input_image):\n",
    "    temp_1 = clip_normalize_ground(input_image)\n",
    "    return temp_1"
   ]
  },
  {
   "cell_type": "code",
   "execution_count": 166,
   "id": "2f83342d",
   "metadata": {},
   "outputs": [],
   "source": [
    "raw_sim_finalized = pre_process_raw(RS_image)\n",
    "gt_finalized = pre_process_gt(GT_image)"
   ]
  },
  {
   "cell_type": "code",
   "execution_count": 167,
   "id": "346578c3",
   "metadata": {},
   "outputs": [
    {
     "name": "stdout",
     "output_type": "stream",
     "text": [
      "(15, 17, 1024, 1024)\n",
      "(17, 2048, 2048)\n"
     ]
    }
   ],
   "source": [
    "print(raw_sim_finalized.shape)\n",
    "print(gt_finalized.shape)"
   ]
  },
  {
   "cell_type": "code",
   "execution_count": 187,
   "id": "d2a16bdd",
   "metadata": {},
   "outputs": [
    {
     "data": {
      "text/plain": [
       "Text(0.5, 1.0, 'Ground-truth_image_FairSIM')"
      ]
     },
     "execution_count": 187,
     "metadata": {},
     "output_type": "execute_result"
    },
    {
     "data": {
      "image/png": "[encoded data removed]",
      "text/plain": [
       "<Figure size 432x288 with 1 Axes>"
      ]
     },
     "metadata": {
      "needs_background": "light"
     },
     "output_type": "display_data"
    }
   ],
   "source": [
    "plt.imshow(gt_finalized[8],cmap='gray')\n",
    "plt.title('Ground-truth_image_FairSIM')"
   ]
  },
  {
   "cell_type": "code",
   "execution_count": 176,
   "id": "3a735a7c",
   "metadata": {
    "scrolled": true
   },
   "outputs": [
    {
     "data": {
      "text/plain": [
       "<matplotlib.image.AxesImage at 0x1b78a1054c0>"
      ]
     },
     "execution_count": 176,
     "metadata": {},
     "output_type": "execute_result"
    },
    {
     "data": {
      "image/png": "[encoded data removed]",
      "text/plain": [
       "<Figure size 432x288 with 1 Axes>"
      ]
     },
     "metadata": {
      "needs_background": "light"
     },
     "output_type": "display_data"
    }
   ],
   "source": [
    "# From the above output we deduce \n",
    "# data has a a format of (1,images_per_plane,depth,x,y)\n",
    "plt.imshow(raw_sim_finalized[0,16,:,:], cmap ='gray')"
   ]
  },
  {
   "cell_type": "markdown",
   "id": "dd300624",
   "metadata": {},
   "source": [
    "## Up-Sample z dimension of input from 55 depth to 110, since we expect axial resolution of 2x factor"
   ]
  },
  {
   "cell_type": "code",
   "execution_count": 178,
   "id": "44e27b7d",
   "metadata": {},
   "outputs": [
    {
     "data": {
      "text/plain": [
       "Text(0.5, 1.0, 'x-z plane Ground truth upsampled at y = 100')"
      ]
     },
     "execution_count": 178,
     "metadata": {},
     "output_type": "execute_result"
    },
    {
     "data": {
      "image/png": "[encoded data removed]",
      "text/plain": [
       "<Figure size 737.28x79.2 with 1 Axes>"
      ]
     },
     "metadata": {
      "needs_background": "light"
     },
     "output_type": "display_data"
    }
   ],
   "source": [
    "##########################################\n",
    "# up-sample in the z-dimension \n",
    "\n",
    "up_sampled_GT_image = np.repeat(gt_finalized,2, axis=0)\n",
    "g = plt.figure(figsize=(10.24,1.1))\n",
    "plt.imshow(up_sampled_GT_image[:,:,99], cmap='gray')\n",
    "plt.title('x-z plane Ground truth upsampled at y = 100')"
   ]
  },
  {
   "cell_type": "markdown",
   "id": "5d654e2c",
   "metadata": {},
   "source": [
    "## Cropping Input to 32x32x32 and upsampling to 64x64x64\n",
    "----\n"
   ]
  },
  {
   "cell_type": "code",
   "execution_count": 184,
   "id": "068e27af",
   "metadata": {},
   "outputs": [
    {
     "data": {
      "text/plain": [
       "<matplotlib.image.AxesImage at 0x1b789910280>"
      ]
     },
     "execution_count": 184,
     "metadata": {},
     "output_type": "execute_result"
    },
    {
     "data": {
      "image/png": "[encoded data removed]",
      "text/plain": [
       "<Figure size 432x288 with 1 Axes>"
      ]
     },
     "metadata": {
      "needs_background": "light"
     },
     "output_type": "display_data"
    }
   ],
   "source": [
    "plt.imshow(raw_sim_finalized[0,0,0:31,0:31], cmap ='gray')"
   ]
  },
  {
   "cell_type": "code",
   "execution_count": 183,
   "id": "d88460cc",
   "metadata": {},
   "outputs": [],
   "source": [
    "data_2 = scipy.ndimage.zoom(raw_sim_finalized, zoom = (1,2,2,2), order = 1)"
   ]
  },
  {
   "cell_type": "code",
   "execution_count": 185,
   "id": "b799267e",
   "metadata": {},
   "outputs": [
    {
     "data": {
      "text/plain": [
       "(15, 34, 2048, 2048)"
      ]
     },
     "execution_count": 185,
     "metadata": {},
     "output_type": "execute_result"
    }
   ],
   "source": [
    "data_2.shape"
   ]
  },
  {
   "cell_type": "code",
   "execution_count": 189,
   "id": "c3df9cb0",
   "metadata": {},
   "outputs": [
    {
     "data": {
      "text/plain": [
       "'E:\\\\Bereket\\\\Research\\\\DeepLearning - 3D\\\\Workspace\\\\Data_3D_18'"
      ]
     },
     "execution_count": 189,
     "metadata": {},
     "output_type": "execute_result"
    }
   ],
   "source": [
    "os.getcwd()"
   ]
  },
  {
   "cell_type": "markdown",
   "id": "ad6b7e07",
   "metadata": {},
   "source": [
    "## Pre-process training data\n",
    "\n",
    "cropping raw sim blocks into small axa plates"
   ]
  },
  {
   "cell_type": "code",
   "execution_count": 193,
   "id": "7d966176",
   "metadata": {},
   "outputs": [
    {
     "name": "stdout",
     "output_type": "stream",
     "text": [
      "performed depth: 1/34\n",
      "performed depth: 2/34\n",
      "performed depth: 3/34\n",
      "performed depth: 4/34\n",
      "performed depth: 5/34\n",
      "performed depth: 6/34\n",
      "performed depth: 7/34\n",
      "performed depth: 8/34\n",
      "performed depth: 9/34\n",
      "performed depth: 10/34\n",
      "performed depth: 11/34\n",
      "performed depth: 12/34\n",
      "performed depth: 13/34\n",
      "performed depth: 14/34\n",
      "performed depth: 15/34\n",
      "performed depth: 16/34\n",
      "performed depth: 17/34\n",
      "performed depth: 18/34\n",
      "performed depth: 19/34\n",
      "performed depth: 20/34\n",
      "performed depth: 21/34\n",
      "performed depth: 22/34\n",
      "performed depth: 23/34\n",
      "performed depth: 24/34\n",
      "performed depth: 25/34\n",
      "performed depth: 26/34\n",
      "performed depth: 27/34\n",
      "performed depth: 28/34\n",
      "performed depth: 29/34\n",
      "performed depth: 30/34\n",
      "performed depth: 31/34\n",
      "performed depth: 32/34\n",
      "performed depth: 33/34\n",
      "performed depth: 34/34\n",
      "Elapsed time during the whole program in minutes: 0.5393229166666667\n"
     ]
    },
    {
     "data": {
      "text/plain": [
       "<Figure size 1008x1008 with 0 Axes>"
      ]
     },
     "metadata": {},
     "output_type": "display_data"
    }
   ],
   "source": [
    "##########################################\n",
    "# pre-process training data\n",
    "\n",
    "path = r\"E:\\Bereket\\Research\\DeepLearning - 3D\\Data\\Data_pre_processed\\Opstad\\Live Cell\\004\\2D\"\n",
    "\n",
    "f= plt.figure(figsize=(14, 14))\n",
    "count = 0\n",
    "c = []\n",
    "\n",
    "# no of samples = upsampled_depth x patches_per_plane = 64x256 = 16384\n",
    "# taking only the original 32 depth \n",
    "\n",
    "z_grid_size = data_2.shape[1]\n",
    "y_grid_size = 256\n",
    "x_grid_size = 256\n",
    "\n",
    "\n",
    "width_output = data_2.shape[2]\n",
    "height_output = data_2.shape[3]\n",
    "\n",
    "\n",
    "t1_start = process_time() \n",
    "for z in range(0,z_grid_size):\n",
    "    print('performed depth: %d/%d'%(z+1, z_grid_size))\n",
    "    for x in range(0,width_output,x_grid_size):\n",
    "        for y in range(0,height_output,y_grid_size):\n",
    "            count +=1\n",
    "            c = []\n",
    "            for i in range(images_per_plane):\n",
    "                c.append(data_2[i,z,x:x+x_grid_size,y:y+y_grid_size])\n",
    "                #image = scipy.ndimage.zoom(c[i], zoom = (2,2), order = 1)\n",
    "                image = c[i]\n",
    "                if(os.path.isdir(path+'/Pattern_illuminated/Sample_%d'%count) == False):\n",
    "                    os.makedirs(path+'/Pattern_illuminated/Sample_%d'%count)\n",
    "                imsave(path+'/Pattern_illuminated/Sample_%d/HE_%d.tif' %(count,i+1), image)\n",
    "                \n",
    "                \n",
    "t1_stop = process_time()\n",
    "print(\"Elapsed time during the whole program in minutes:\",\n",
    "                                            (t1_stop-t1_start)/60)"
   ]
  },
  {
   "cell_type": "markdown",
   "id": "77017127",
   "metadata": {},
   "source": [
    "## pre-process ground truth"
   ]
  },
  {
   "cell_type": "code",
   "execution_count": 19,
   "id": "6d35e481",
   "metadata": {},
   "outputs": [
    {
     "data": {
      "text/plain": [
       "(106, 1024, 1024)"
      ]
     },
     "execution_count": 19,
     "metadata": {},
     "output_type": "execute_result"
    }
   ],
   "source": [
    "# upsample 2x in z dimension\n",
    "\n",
    "data_3 = scipy.ndimage.zoom(GT_image, zoom = (2,1,1), order = 1)\n",
    "data_3.shape"
   ]
  },
  {
   "cell_type": "code",
   "execution_count": 34,
   "id": "05bd05f8",
   "metadata": {},
   "outputs": [
    {
     "data": {
      "text/plain": [
       "array([[1, 1, 1, 1],\n",
       "       [2, 2, 2, 2]])"
      ]
     },
     "execution_count": 34,
     "metadata": {},
     "output_type": "execute_result"
    }
   ],
   "source": [
    "# Example of up-sampling\n",
    "\n",
    "a = np.array([[1, 1, 1, 1], [2, 2, 2, 2]])\n",
    "a"
   ]
  },
  {
   "cell_type": "code",
   "execution_count": 33,
   "id": "bbc13fb0",
   "metadata": {},
   "outputs": [
    {
     "data": {
      "text/plain": [
       "array([[1, 1, 1, 1],\n",
       "       [1, 1, 1, 1],\n",
       "       [2, 2, 2, 2],\n",
       "       [2, 2, 2, 2]])"
      ]
     },
     "execution_count": 33,
     "metadata": {},
     "output_type": "execute_result"
    }
   ],
   "source": [
    "a_3 = scipy.ndimage.zoom(a, zoom = (2,1), order = 1)\n",
    "a_3"
   ]
  },
  {
   "cell_type": "code",
   "execution_count": 20,
   "id": "0d2719f8",
   "metadata": {},
   "outputs": [],
   "source": [
    "# pre-process ground truth\n",
    "\n",
    "gt_list = []\n",
    "count = 0\n",
    "\n",
    "# no of samples = upsampled_depth x patches_per_plane = 64x256 = 16384\n",
    "\n",
    "for z in range(0,z_grid_size):\n",
    "    for x in range(0,data_3.shape[1],x_grid_size):\n",
    "        for y in range(0,data_3.shape[2],y_grid_size ):\n",
    "            gt_list.append(data_3[z,x:x+x_grid_size,y:y+y_grid_size ])\n",
    "            image = gt_list[count]\n",
    "            count +=1\n",
    "            if not os.path.exists(path+'/Reconstructed'):\n",
    "                os.makedirs(path+'/Reconstructed')\n",
    "            imsave(path + '/Reconstructed/Sample_%d.tif' %count, image)"
   ]
  },
  {
   "cell_type": "code",
   "execution_count": 29,
   "id": "2ccb1275",
   "metadata": {},
   "outputs": [],
   "source": [
    "images_per_plane = 15 \n",
    "data = np.zeros((1, images_per_plane, im.shape[0]//images_per_plane, im.shape[1], im.shape[1]))"
   ]
  },
  {
   "cell_type": "markdown",
   "id": "df8f79d0",
   "metadata": {},
   "source": [
    "## Supplementary\n",
    "\n",
    "Duplicate directory names for 2D stacking, similar to 3D "
   ]
  },
  {
   "cell_type": "code",
   "execution_count": 1,
   "id": "9474d189",
   "metadata": {},
   "outputs": [
    {
     "name": "stdout",
     "output_type": "stream",
     "text": [
      "['combined_prediction', 'test', 'test_gt', 'test_prediction', 'train', 'train_gt', 'train_prediction', 'valid', 'valid_gt', 'valid_prediction']\n"
     ]
    }
   ],
   "source": [
    "import os\n",
    "orig_path =  'D:\\Bereket\\DeepLearning - 3D\\Data\\Data_3D'\n",
    "print(os.listdir(orig_path))"
   ]
  },
  {
   "cell_type": "code",
   "execution_count": 6,
   "id": "c361399d",
   "metadata": {},
   "outputs": [],
   "source": [
    "destin_path = 'D:/Bereket/DeepLearning - 3D/Data/Data_2D_2'\n",
    "for dir in os.listdir(orig_path):\n",
    "    os.makedirs(destin_path+'/'+ dir)"
   ]
  },
  {
   "cell_type": "markdown",
   "id": "d44bf022",
   "metadata": {},
   "source": [
    "# Split Train, Valid and Test Data\n",
    "\n",
    "split samples into train, valid and test data "
   ]
  },
  {
   "cell_type": "code",
   "execution_count": 10,
   "id": "7749c3a8",
   "metadata": {},
   "outputs": [],
   "source": [
    "import shutil, os\n",
    "train_percent = 0.5\n",
    "valid_percent = 0.25\n",
    "test_percent = 0.25"
   ]
  },
  {
   "cell_type": "code",
   "execution_count": 11,
   "id": "0ae1bd6d",
   "metadata": {},
   "outputs": [
    {
     "name": "stdout",
     "output_type": "stream",
     "text": [
      "Total dataset: 16384\n",
      "Training range - 1:8192\n",
      "Validation range - 8193:12288\n",
      "Testing range -12289:16384\n"
     ]
    }
   ],
   "source": [
    "all_pattern_path = 'D:/Bereket/DeepLearning - 3D/Data/Data_pre_processed/2D_Stack_U2OS_Actin/Pattern_illuminated/'\n",
    "ground_truth_path = 'D:/Bereket/DeepLearning - 3D/Data/Data_pre_processed/2D_Stack_U2OS_Actin/Reconstructed/'\n",
    "\n",
    "total = len(os.listdir(all_pattern_path))\n",
    "\n",
    "train_samples = int(total*train_percent)\n",
    "valid_samples = int(total*valid_percent)\n",
    "test_samples = int(total*valid_percent)\n",
    "\n",
    "\n",
    "print('Total dataset: %d'%total)\n",
    "print('Training range - 1:%d'%train_samples)\n",
    "print('Validation range - %d:%d'%(train_samples+1,train_samples+valid_samples))\n",
    "print('Testing range -%d:%d'%(train_samples+valid_samples+1,total))\n"
   ]
  },
  {
   "cell_type": "code",
   "execution_count": 12,
   "id": "5dd2d5d5",
   "metadata": {},
   "outputs": [],
   "source": [
    "train_path = 'D:/Bereket/DeepLearning - 3D/Data/Data_2D_2/train'\n",
    "test_path = 'D:/Bereket/DeepLearning - 3D/Data/Data_2D_2/test'\n",
    "valid_path = 'D:/Bereket/DeepLearning - 3D/Data/Data_2D_2/valid'"
   ]
  },
  {
   "cell_type": "markdown",
   "id": "30b5e2c1",
   "metadata": {},
   "source": [
    "## Shuttle data from all path to individual TTV(train,test,valid) path"
   ]
  },
  {
   "cell_type": "code",
   "execution_count": 19,
   "id": "65a295b9",
   "metadata": {},
   "outputs": [],
   "source": [
    "import re, os\n",
    "\n",
    "def sorted_alphanumeric(data):\n",
    "    convert = lambda text: int(text) if text.isdigit() else text.lower()\n",
    "    alphanum_key = lambda key: [ convert(c) for c in re.split('([0-9]+)', key) ] \n",
    "    return sorted(data, key=alphanum_key)"
   ]
  },
  {
   "cell_type": "code",
   "execution_count": 20,
   "id": "0fcd0517",
   "metadata": {},
   "outputs": [],
   "source": [
    "dirlist = sorted_alphanumeric(os.listdir(all_pattern_path))\n",
    "dirlist_gt = sorted_alphanumeric(os.listdir(ground_truth_path))"
   ]
  },
  {
   "cell_type": "markdown",
   "id": "66727e5c",
   "metadata": {},
   "source": [
    "Training is (1 to 128), (257 to 257+128)  <br>\n",
    "(256x0 +1 to 256x0 + 128), (256x1 +1 to 256x1 + 128))  <br>\n",
    "(256xi +1 to 256xi + 128), (256xi +1 to 256xi + 128))  <br>\n",
    "where i goes from 1 to 64 , aka the depth"
   ]
  },
  {
   "cell_type": "markdown",
   "id": "14e12f9d",
   "metadata": {},
   "source": [
    "![ex](Images/dataset_classification.PNG)"
   ]
  },
  {
   "cell_type": "code",
   "execution_count": 7,
   "id": "9b3eb165",
   "metadata": {},
   "outputs": [],
   "source": [
    "count = 0\n",
    "for f in dirlist:\n",
    "    #print(f)\n",
    "    count +=1\n",
    "    source = all_pattern_path +'/'+f\n",
    "    #print(source)\n",
    "    if (count <= 128):\n",
    "        a =1+1\n",
    "        #shutil.copytree(source, train_path +'/'+f)\n",
    "    if (128 < count <= 128+64):\n",
    "          \n",
    "        #print(f)\n",
    "        #shutil.copytree(source, valid_path +'/'+f)\n",
    "    if (128+64 < count <= 256):\n",
    "          \n",
    "        #shutil.copytree(source, test_path +'/'+f)\n",
    "    if (count == 256):\n",
    "        count =0"
   ]
  },
  {
   "cell_type": "markdown",
   "id": "31dcb398",
   "metadata": {},
   "source": [
    "MOBILIZING GROUND TRUTH"
   ]
  },
  {
   "cell_type": "code",
   "execution_count": 23,
   "id": "02da3b95",
   "metadata": {},
   "outputs": [],
   "source": [
    "count = 0\n",
    "for f in dirlist_gt:\n",
    "    #print(f)\n",
    "    count +=1\n",
    "    source = ground_truth_path +'/'+f \n",
    "    #print(source)\n",
    "    if (count <= 128):\n",
    "        shutil.copy(source, train_path +'_gt/'+f)\n",
    "    if (128 < count <= 128+64):\n",
    "        shutil.copy(source, valid_path +'_gt/'+f)\n",
    "    if (128+64 < count <= 256):\n",
    "        shutil.copy(source, test_path +'_gt/'+f)\n",
    "    if (count == 256):\n",
    "        count =0"
   ]
  }
 ],
 "metadata": {
  "kernelspec": {
   "display_name": "Python 3 (ipykernel)",
   "language": "python",
   "name": "python3"
  },
  "language_info": {
   "codemirror_mode": {
    "name": "ipython",
    "version": 3
   },
   "file_extension": ".py",
   "mimetype": "text/x-python",
   "name": "python",
   "nbconvert_exporter": "python",
   "pygments_lexer": "ipython3",
   "version": "3.9.5"
  }
 },
 "nbformat": 4,
 "nbformat_minor": 5
}
